{
 "cells": [
  {
   "cell_type": "code",
   "execution_count": null,
   "metadata": {},
   "outputs": [],
   "source": [
    "from azure.ai.ml import MLClient\n",
    "from azure.identity import DefaultAzureCredential\n",
    "from azure.ai.ml.entities import ManagedOnlineDeployment, Environment, CodeConfiguration\n",
    "import os\n",
    "\n",
    "\n",
    "ml_client = MLClient(\n",
    "    credential=DefaultAzureCredential(),\n",
    "    subscription_id=\"ddfbea37-0529-4562-ac51-2ebbbe770146\",\n",
    "    resource_group_name=\"cloudServicesS242\",\n",
    "    workspace_name=\"myWorkspace\"\n",
    ")"
   ]
  },
  {
   "cell_type": "code",
   "execution_count": null,
   "metadata": {},
   "outputs": [],
   "source": [
    "code_path = os.path.abspath(\"./\")\n",
    "# Define your deployment\n",
    "deployment = ManagedOnlineDeployment(\n",
    "    name=\"mnist-deployment-v1\",\n",
    "    endpoint_name=\"myworkspace-ville\",\n",
    "    model=\"my_tensorflow_model:3\",\n",
    "    #environment=\"tensorflow-env:1\",\n",
    "    code_configuration=CodeConfiguration(\n",
    "        code=\"./\", scoring_script=\"score.py\"\n",
    "        ),\n",
    "    environment=Environment(\n",
    "            conda_file=\"conda.yml\",\n",
    "            image=\"mcr.microsoft.com/azureml/openmpi4.1.0-ubuntu20.04\",\n",
    "            ),\n",
    "    \n",
    "    instance_type=\"Standard_DS3_v2\",\n",
    "    instance_count=1\n",
    ")"
   ]
  },
  {
   "cell_type": "code",
   "execution_count": null,
   "metadata": {},
   "outputs": [],
   "source": [
    "# Deploy locally\n",
    "deployment_poller = ml_client.online_deployments.begin_create_or_update(deployment, local=True)\n",
    "deployment_result = deployment_poller.result()"
   ]
  },
  {
   "cell_type": "code",
   "execution_count": null,
   "metadata": {},
   "outputs": [],
   "source": [
    "# Get the scoring URI\n",
    "endpoint_details = ml_client.online_endpoints.get(\"myworkspace-ville\")\n",
    "print(f\"Scoring URI: {endpoint_details.scoring_uri}\")"
   ]
  }
 ],
 "metadata": {
  "kernelspec": {
   "display_name": "Python 3",
   "language": "python",
   "name": "python3"
  },
  "language_info": {
   "name": "python",
   "version": "3.12.3"
  }
 },
 "nbformat": 4,
 "nbformat_minor": 2
}
