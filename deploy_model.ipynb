{
 "cells": [
  {
   "cell_type": "code",
   "execution_count": 38,
   "metadata": {},
   "outputs": [],
   "source": [
    "from azure.ai.ml import MLClient\n",
    "from azure.identity import DefaultAzureCredential\n",
    "from azure.ai.ml.entities import ManagedOnlineDeployment, Environment, CodeConfiguration\n",
    "import os\n",
    "\n",
    "\n",
    "ml_client = MLClient(\n",
    "    credential=DefaultAzureCredential(),\n",
    "    subscription_id=\"ddfbea37-0529-4562-ac51-2ebbbe770146\",\n",
    "    resource_group_name=\"cloudServicesS242\",\n",
    "    workspace_name=\"myWorkspace\"\n",
    ")"
   ]
  },
  {
   "cell_type": "code",
   "execution_count": 43,
   "metadata": {},
   "outputs": [],
   "source": [
    "code_path = os.path.abspath(\"./\")\n",
    "# Define your deployment\n",
    "deployment = ManagedOnlineDeployment(\n",
    "    name=\"mnist-deployment-v1\",\n",
    "    endpoint_name=\"myworkspace-ville\",\n",
    "    model=\"my_tensorflow_model:3\",\n",
    "    #environment=\"tensorflow-env:1\",\n",
    "    code_configuration=CodeConfiguration(\n",
    "        code=\"./\", scoring_script=\"score.py\"\n",
    "        ),\n",
    "    environment=Environment(\n",
    "            conda_file=\"conda.yml\",\n",
    "            image=\"mcr.microsoft.com/azureml/openmpi4.1.0-ubuntu20.04\",\n",
    "            ),\n",
    "    \n",
    "    instance_type=\"Standard_DS3_v2\",\n",
    "    instance_count=1\n",
    ")"
   ]
  },
  {
   "cell_type": "code",
   "execution_count": 47,
   "metadata": {},
   "outputs": [
    {
     "name": "stderr",
     "output_type": "stream",
     "text": [
      "Updating local deployment (myworkspace-ville / mnist-deployment-v1) ..\n",
      "Building Docker image from Dockerfile..\n",
      "Step 1/6 : FROM mcr.microsoft.com/azureml/openmpi4.1.0-ubuntu20.04\n",
      " ---> 005da6fe2f84\n",
      "Step 2/6 : RUN mkdir -p /var/azureml-app/\n",
      " ---> Using cache\n",
      " ---> 6b7850a0392c\n",
      "Step 3/6 : WORKDIR /var/azureml-app/\n",
      " ---> Using cache\n",
      " ---> 098941cf465c\n",
      "Step 4/6 : COPY conda.yml /var/azureml-app/\n",
      " ---> Using cache\n",
      " ---> 3e7fe10c7a38\n",
      "Step 5/6 : RUN conda env create -n inf-conda-env --file conda.yml\n",
      " ---> Using cache\n",
      " ---> 030f276512d6\n",
      "Step 6/6 : CMD [\"conda\", \"run\", \"--no-capture-output\", \"-n\", \"inf-conda-env\", \"runsvdir\", \"/var/runit\"]\n",
      " ---> Using cache\n",
      " ---> f25c50624d75\n",
      "Successfully built f25c50624d75\n",
      "Successfully tagged myworkspace-ville:mnist-deployment-v1\n",
      "\n",
      "Starting up endpoint.....Done (0m 45s)\n"
     ]
    }
   ],
   "source": [
    "# Deploy locally\n",
    "deployment_poller = ml_client.online_deployments.begin_create_or_update(deployment, local=True)\n"
   ]
  },
  {
   "cell_type": "code",
   "execution_count": 4,
   "metadata": {},
   "outputs": [
    {
     "ename": "AttributeError",
     "evalue": "'ManagedOnlineDeployment' object has no attribute 'result'",
     "output_type": "error",
     "traceback": [
      "\u001b[1;31m---------------------------------------------------------------------------\u001b[0m",
      "\u001b[1;31mAttributeError\u001b[0m                            Traceback (most recent call last)",
      "Cell \u001b[1;32mIn[4], line 1\u001b[0m\n\u001b[1;32m----> 1\u001b[0m deployment_result \u001b[38;5;241m=\u001b[39m \u001b[43mdeployment_poller\u001b[49m\u001b[38;5;241;43m.\u001b[39;49m\u001b[43mresult\u001b[49m()\n",
      "\u001b[1;31mAttributeError\u001b[0m: 'ManagedOnlineDeployment' object has no attribute 'result'"
     ]
    }
   ],
   "source": [
    "deployment_result = deployment_poller.result()"
   ]
  },
  {
   "cell_type": "code",
   "execution_count": 5,
   "metadata": {},
   "outputs": [
    {
     "name": "stdout",
     "output_type": "stream",
     "text": [
      "Scoring URI: https://myworkspace-ville.northeurope.inference.ml.azure.com/score\n"
     ]
    }
   ],
   "source": [
    "# Get the scoring URI\n",
    "endpoint_details = ml_client.online_endpoints.get(\"myworkspace-ville\")\n",
    "print(f\"Scoring URI: {endpoint_details.scoring_uri}\")"
   ]
  }
 ],
 "metadata": {
  "kernelspec": {
   "display_name": "Python 3",
   "language": "python",
   "name": "python3"
  },
  "language_info": {
   "codemirror_mode": {
    "name": "ipython",
    "version": 3
   },
   "file_extension": ".py",
   "mimetype": "text/x-python",
   "name": "python",
   "nbconvert_exporter": "python",
   "pygments_lexer": "ipython3",
   "version": "3.12.3"
  }
 },
 "nbformat": 4,
 "nbformat_minor": 2
}
