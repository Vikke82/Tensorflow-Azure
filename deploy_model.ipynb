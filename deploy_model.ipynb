{
 "cells": [
  {
   "cell_type": "code",
   "execution_count": 168,
   "metadata": {},
   "outputs": [],
   "source": [
    "from azure.ai.ml import MLClient\n",
    "from azure.identity import DefaultAzureCredential\n",
    "from azure.ai.ml.entities import ManagedOnlineDeployment, Environment, CodeConfiguration\n",
    "\n",
    "#Creating handle to our service, replace with your own credentials\n",
    "ml_client = MLClient(\n",
    "    credential=DefaultAzureCredential(),\n",
    "    subscription_id=\"ddfbea37-0529-4562-ac51-2ebbbe770146\",\n",
    "    resource_group_name=\"cloudServicesS242\",\n",
    "    resource_group = \"cloudServicesS242\",\n",
    "    workspace_name=\"myWorkspace\"\n",
    ")"
   ]
  },
  {
   "cell_type": "markdown",
   "metadata": {},
   "source": [
    "Creating MLClient won't connect to the workspace. The client initialization is lazy and waits for the first time it needs to make a call (this happens in the next code cell)."
   ]
  },
  {
   "cell_type": "code",
   "execution_count": 184,
   "metadata": {},
   "outputs": [
    {
     "data": {
      "text/plain": [
       "Model({'job_name': None, 'intellectual_property': None, 'is_anonymous': False, 'auto_increment_version': False, 'auto_delete_setting': None, 'name': 'my_model_keras', 'description': 'ML Model created from local files.', 'tags': {}, 'properties': {}, 'print_as_yaml': False, 'id': '/subscriptions/ddfbea37-0529-4562-ac51-2ebbbe770146/resourceGroups/cloudServicesS242/providers/Microsoft.MachineLearningServices/workspaces/myWorkspace/models/my_model_keras/versions/4', 'Resource__source_path': '', 'base_path': 'c:\\\\Users\\\\vimajava\\\\Documents\\\\Tensorflow Azure', 'creation_context': <azure.ai.ml.entities._system_data.SystemData object at 0x0000017B02B60BC0>, 'serialize': <msrest.serialization.Serializer object at 0x0000017B04A26F00>, 'version': '4', 'latest_version': None, 'path': 'azureml://subscriptions/ddfbea37-0529-4562-ac51-2ebbbe770146/resourceGroups/cloudServicesS242/workspaces/myWorkspace/datastores/workspaceblobstore/paths/LocalUpload/5da9b8e6524b0d09c5a4af0ade4cc029/my_model.keras', 'datastore': None, 'utc_time_created': None, 'flavors': None, 'arm_type': 'model_version', 'type': 'custom_model', 'stage': 'Development'})"
      ]
     },
     "execution_count": 184,
     "metadata": {},
     "output_type": "execute_result"
    }
   ],
   "source": [
    "#Register model\n",
    "# Import the necessary libraries\n",
    "from azure.ai.ml.entities import Model\n",
    "from azure.ai.ml.constants import AssetTypes\n",
    "\n",
    "# Provide the model details, including the\n",
    "# path to the model files, if you've stored them locally.\n",
    "ml_model = Model(\n",
    "    path=\"./app/my_model.keras\",\n",
    "    type=AssetTypes.CUSTOM_MODEL,\n",
    "    name=\"my_model_keras\",\n",
    "    description=\"ML Model created from local files.\",\n",
    ")\n",
    "\n",
    "# Register the model\n",
    "ml_client.models.create_or_update(ml_model)\n",
    "\n"
   ]
  },
  {
   "cell_type": "code",
   "execution_count": 185,
   "metadata": {},
   "outputs": [
    {
     "name": "stdout",
     "output_type": "stream",
     "text": [
      "4\n"
     ]
    }
   ],
   "source": [
    "#confirm that ML model version is in Azure\n",
    "registered_model_name = \"my_model_keras\"\n",
    "\n",
    "# Let's pick the latest version of the model\n",
    "latest_model_version = max(\n",
    "    [int(m.version) for m in ml_client.models.list(name=registered_model_name)]\n",
    ")\n",
    "\n",
    "print(latest_model_version)"
   ]
  },
  {
   "cell_type": "markdown",
   "metadata": {},
   "source": [
    "After you train a machine learning model, you need to deploy it so that others can use it for inferencing. For this purpose, Azure Machine Learning allows you to create endpoints and add deployments to them.\n",
    "\n",
    "An endpoint, in this context, is an HTTPS path that provides an interface for clients to send requests (input data) to a trained model and receive the inferencing (scoring) results from the model. An endpoint provides:\n",
    "\n",
    "Authentication using \"key or token\" based auth\n",
    "TLS(SSL) termination\n",
    "A stable scoring URI (endpoint-name.region.inference.ml.azure.com)\n",
    "A deployment is a set of resources required for hosting the model that does the actual inferencing.\n",
    "\n",
    "A single endpoint can contain multiple deployments. Endpoints and deployments are independent Azure Resource Manager resources that appear in the Azure portal."
   ]
  },
  {
   "cell_type": "markdown",
   "metadata": {},
   "source": [
    "Create online endpoint. Naming rules: https://learn.microsoft.com/en-us/azure/machine-learning/how-to-manage-quotas?view=azureml-api-2#azure-machine-learning-online-endpoints-and-batch-endpoints"
   ]
  },
  {
   "cell_type": "markdown",
   "metadata": {},
   "source": [
    "get your subscription Id: az account list --output table\n",
    "get your identity Id: az ad user show --id <your-email-or-username>\n",
    "assign role for you: az role assignment create --assignee <identityId> --role \"AzureML Data Scientist\" --scope /subscriptions/<subscriptionId>/resourcegroups/<resourceGroupName>/providers/Microsoft.MachineLearningServices/workspaces/<workspaceName>"
   ]
  },
  {
   "cell_type": "code",
   "execution_count": 179,
   "metadata": {},
   "outputs": [],
   "source": [
    "from azure.ai.ml.entities import ManagedOnlineEndpoint\n",
    "\n",
    "online_endpoint_name = \"myendpoint-ville\"\n",
    "# define an online endpoint\n",
    "endpoint = ManagedOnlineEndpoint(\n",
    "    name=online_endpoint_name,\n",
    "    description=\"this is an online endpoint\",\n",
    "    auth_mode=\"key\",\n",
    "    tags={\n",
    "        \"training_dataset\": \"credit_defaults\",\n",
    "    },\n",
    ")"
   ]
  },
  {
   "cell_type": "code",
   "execution_count": 172,
   "metadata": {},
   "outputs": [],
   "source": [
    "# create the online endpoint\n",
    "# expect the endpoint to take approximately 2 minutes.\n",
    "\n",
    "endpoint = ml_client.online_endpoints.begin_create_or_update(endpoint).result()"
   ]
  },
  {
   "cell_type": "code",
   "execution_count": 173,
   "metadata": {},
   "outputs": [
    {
     "name": "stdout",
     "output_type": "stream",
     "text": [
      "Endpoint \"myendpoint-ville\" with provisioning state \"Succeeded\" is retrieved\n"
     ]
    }
   ],
   "source": [
    "#get the endpoint\n",
    "endpoint = ml_client.online_endpoints.get(name=online_endpoint_name)\n",
    "\n",
    "print(\n",
    "    f'Endpoint \"{endpoint.name}\" with provisioning state \"{endpoint.provisioning_state}\" is retrieved'\n",
    ")"
   ]
  },
  {
   "cell_type": "markdown",
   "metadata": {},
   "source": [
    "The key aspects of a deployment include:\n",
    "\n",
    "name - Name of the deployment.\n",
    "\n",
    "endpoint_name - Name of the endpoint that will contain the deployment.\n",
    "\n",
    "model - The model to use for the deployment. This value can be either a reference to an existing versioned model in the workspace or an inline model specification.\n",
    "\n",
    "environment - The environment to use for the deployment (or to run the model). This value can be either a reference to an existing versioned environment in the workspace or an inline environment specification. The environment can be a Docker image with Conda dependencies or a Dockerfile.\n",
    "\n",
    "code_configuration - the configuration for the source code and scoring script.\n",
    "\n",
    "path- Path to the source code directory for scoring the model.\n",
    "\n",
    "scoring_script - Relative path to the scoring file in the source code directory. This script executes the model on a given input request. For an example of a scoring script, see Understand the scoring script in the \"Deploy an ML model with an online endpoint\" article.\n",
    "\n",
    "instance_type - The VM size to use for the deployment. For the list of supported sizes, see Managed online endpoints SKU list.\n",
    "\n",
    "instance_count - The number of instances to use for the deployment."
   ]
  },
  {
   "cell_type": "code",
   "execution_count": 174,
   "metadata": {},
   "outputs": [],
   "source": [
    "# Define the environment\n",
    "env = Environment(\n",
    "    name=\"my-custom-env\",\n",
    "    description=\"My custom environment with required packages\",\n",
    "    conda_file=\"conda.yml\" , # Path to your conda file or requirements\n",
    "    image=\"mcr.microsoft.com/azureml/openmpi4.1.0-ubuntu20.04\")\n"
   ]
  },
  {
   "cell_type": "code",
   "execution_count": 193,
   "metadata": {},
   "outputs": [],
   "source": [
    "from azure.ai.ml.entities import ManagedOnlineDeployment\n",
    "\n",
    "# Choose the latest version of the registered model for deployment\n",
    "model = ml_client.models.get(name=registered_model_name, version=latest_model_version)\n",
    "\n",
    "# define an online endpoint\n",
    "deployment = ManagedOnlineDeployment(\n",
    "    name=\"mnist-deployment-v1\",\n",
    "    endpoint_name=\"myendpoint-ville\",\n",
    "    model=model,\n",
    "    #environment=\"tensorflow-env:1\",\n",
    "    code_configuration=CodeConfiguration(\n",
    "        code=\"./app\", scoring_script=\"score.py\"\n",
    "        ),\n",
    "    environment=env,\n",
    "    \n",
    "    instance_type=\"Standard_D2as_v4\",\n",
    "    instance_count=1\n",
    ")"
   ]
  },
  {
   "cell_type": "code",
   "execution_count": 194,
   "metadata": {},
   "outputs": [
    {
     "name": "stderr",
     "output_type": "stream",
     "text": [
      "Check: endpoint myendpoint-ville exists\n"
     ]
    },
    {
     "name": "stderr",
     "output_type": "stream",
     "text": [
      "Uploading app (2.49 MBs): 100%|##########| 2487290/2487290 [00:00<00:00, 3680937.47it/s]\n",
      "\n",
      "\n"
     ]
    },
    {
     "name": "stdout",
     "output_type": "stream",
     "text": [
      ".........................................."
     ]
    },
    {
     "data": {
      "text/plain": [
       "ManagedOnlineEndpoint({'public_network_access': 'Enabled', 'provisioning_state': 'Succeeded', 'scoring_uri': 'https://myendpoint-ville.northeurope.inference.ml.azure.com/score', 'openapi_uri': 'https://myendpoint-ville.northeurope.inference.ml.azure.com/swagger.json', 'name': 'myendpoint-ville', 'description': 'this is an online endpoint', 'tags': {'training_dataset': 'credit_defaults'}, 'properties': {'createdBy': 'Ville Majava', 'createdAt': '2024-10-01T05:14:03.150500+0000', 'lastModifiedAt': '2024-10-01T05:14:03.150500+0000', 'azureml.onlineendpointid': '/subscriptions/ddfbea37-0529-4562-ac51-2ebbbe770146/resourcegroups/cloudservicess242/providers/microsoft.machinelearningservices/workspaces/myworkspace/onlineendpoints/myendpoint-ville', 'AzureAsyncOperationUri': 'https://management.azure.com/subscriptions/ddfbea37-0529-4562-ac51-2ebbbe770146/providers/Microsoft.MachineLearningServices/locations/northeurope/mfeOperationsStatus/oeidp:ba617bca-4135-47aa-ac8b-e9574ba022b8:a7b10b63-c4ee-46c9-a142-d7fdecc58401?api-version=2022-02-01-preview'}, 'print_as_yaml': False, 'id': '/subscriptions/ddfbea37-0529-4562-ac51-2ebbbe770146/resourceGroups/cloudServicesS242/providers/Microsoft.MachineLearningServices/workspaces/myWorkspace/onlineEndpoints/myendpoint-ville', 'Resource__source_path': '', 'base_path': 'c:\\\\Users\\\\vimajava\\\\Documents\\\\Tensorflow Azure', 'creation_context': None, 'serialize': <msrest.serialization.Serializer object at 0x0000017B04C262D0>, 'auth_mode': 'key', 'location': 'northeurope', 'identity': <azure.ai.ml.entities._credentials.IdentityConfiguration object at 0x0000017B037066C0>, 'traffic': {'mnist-deployment-v1': 100}, 'mirror_traffic': {}, 'kind': 'Managed'})"
      ]
     },
     "execution_count": 194,
     "metadata": {},
     "output_type": "execute_result"
    }
   ],
   "source": [
    "# create the online deployment\n",
    "deployment = ml_client.online_deployments.begin_create_or_update(deployment, local=False).result()\n",
    "\n",
    "# the deployment takes 100% traffic\n",
    "# expect the deployment to take approximately 8 to 10 minutes.\n",
    "endpoint.traffic = {\"mnist-deployment-v1\": 100}\n",
    "ml_client.online_endpoints.begin_create_or_update(endpoint).result()"
   ]
  }
 ],
 "metadata": {
  "kernelspec": {
   "display_name": "Python 3",
   "language": "python",
   "name": "python3"
  },
  "language_info": {
   "codemirror_mode": {
    "name": "ipython",
    "version": 3
   },
   "file_extension": ".py",
   "mimetype": "text/x-python",
   "name": "python",
   "nbconvert_exporter": "python",
   "pygments_lexer": "ipython3",
   "version": "3.12.3"
  }
 },
 "nbformat": 4,
 "nbformat_minor": 2
}
